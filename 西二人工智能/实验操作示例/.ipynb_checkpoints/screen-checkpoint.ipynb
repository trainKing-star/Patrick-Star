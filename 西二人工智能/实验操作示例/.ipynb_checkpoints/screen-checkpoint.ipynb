{
 "cells": [
  {
   "cell_type": "code",
   "execution_count": 11,
   "metadata": {},
   "outputs": [],
   "source": [
    "import torch\n",
    "import h5py\n",
    "import torchvision\n",
    "import numpy as np\n",
    "import time\n",
    "import os\n",
    "from PIL import Image\n",
    "import torchvision.transforms as transforms\n",
    "from matplotlib import pyplot as plt\n",
    "transform = transforms.Compose(\n",
    "    [\n",
    "        transforms.Resize(64),\n",
    "        transforms.CenterCrop(64),\n",
    "        transforms.ToTensor()\n",
    "    ]\n",
    ")\n",
    "def showTorchImage(image):\n",
    "    mode = transforms.ToPILImage()(image)\n",
    "    plt.imshow(mode)\n",
    "    plt.show()\n",
    "def screen_image_cat():\n",
    "    j=0\n",
    "    k=0\n",
    "    for i in range(12500):\n",
    "        path = os.path.join('./train/train1/cat.'+str(i)+'.jpg')\n",
    "        fopen = Image.open(path)\n",
    "        if fopen.size[0]<64 or fopen.size[1]<64:\n",
    "            fopen.save('./error/cat.'+str(j)+'.jpg')\n",
    "            j=j+1\n",
    "        else:\n",
    "            fopen.save('./true/train/cat.'+str(k)+'.jpg')\n",
    "            k=k+1\n",
    "def screen_image_dog():\n",
    "    j=0\n",
    "    k=0\n",
    "    for i in range(12500):\n",
    "        path = os.path.join('./train/train1/dog.'+str(i)+'.jpg')\n",
    "        fopen = Image.open(path)\n",
    "        if fopen.size[0]<64 or fopen.size[1]<64:\n",
    "            fopen.save('./error/dog.'+str(j)+'.jpg')\n",
    "            j=j+1\n",
    "        else:\n",
    "            fopen.save('./true/train/dog.'+str(k)+'.jpg')\n",
    "            k=k+1\n",
    "screen_image_cat()\n",
    "screen_image_dog()"
   ]
  },
  {
   "cell_type": "code",
   "execution_count": null,
   "metadata": {
    "collapsed": true
   },
   "outputs": [],
   "source": []
  }
 ],
 "metadata": {
  "kernelspec": {
   "display_name": "Python 3",
   "language": "python",
   "name": "python3"
  },
  "language_info": {
   "codemirror_mode": {
    "name": "ipython",
    "version": 3
   },
   "file_extension": ".py",
   "mimetype": "text/x-python",
   "name": "python",
   "nbconvert_exporter": "python",
   "pygments_lexer": "ipython3",
   "version": "3.6.2"
  }
 },
 "nbformat": 4,
 "nbformat_minor": 2
}
