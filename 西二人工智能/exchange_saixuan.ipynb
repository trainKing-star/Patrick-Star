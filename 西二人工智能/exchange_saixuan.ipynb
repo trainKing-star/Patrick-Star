{
 "cells": [
  {
   "cell_type": "code",
   "execution_count": 1,
   "metadata": {
    "collapsed": true,
    "scrolled": true
   },
   "outputs": [],
   "source": [
    "import torch\n",
    "import h5py\n",
    "import torchvision\n",
    "import numpy as np\n",
    "import time\n",
    "import os\n",
    "from PIL import Image\n",
    "import torch.utils.data as Data\n",
    "import torchvision.transforms as transforms\n",
    "import torchvision.datasets as dset\n",
    "from matplotlib import pyplot as plt\n",
    "transform = transforms.Compose(\n",
    "    [\n",
    "        transforms.Resize((64,64)),\n",
    "        transforms.ToTensor()\n",
    "    ]\n",
    ")\n",
    "def showTorchImage(image):\n",
    "    mode = transforms.ToPILImage()(image)\n",
    "    plt.imshow(mode)\n",
    "    plt.show()\n",
    "\n",
    "train_dataset = dset.ImageFolder('./reserror_cat7',transform=transform)"
   ]
  },
  {
   "cell_type": "code",
   "execution_count": 2,
   "metadata": {
    "collapsed": true
   },
   "outputs": [],
   "source": [
    "train_loader=torch.utils.data.DataLoader(\n",
    "    dataset=train_dataset,\n",
    "    batch_size=1,\n",
    "    shuffle=True\n",
    ")\n",
    "for step,(b_x,b_y) in enumerate(train_loader):\n",
    "    image = transforms.ToPILImage()(b_x.view(3,64,64))\n",
    "    if step < 767:\n",
    "        image.save('./restrue7/train/cat.'+str(11144+step)+'.jpg')"
   ]
  },
  {
   "cell_type": "code",
   "execution_count": null,
   "metadata": {
    "collapsed": true
   },
   "outputs": [],
   "source": []
  }
 ],
 "metadata": {
  "kernelspec": {
   "display_name": "Python 3",
   "language": "python",
   "name": "python3"
  },
  "language_info": {
   "codemirror_mode": {
    "name": "ipython",
    "version": 3
   },
   "file_extension": ".py",
   "mimetype": "text/x-python",
   "name": "python",
   "nbconvert_exporter": "python",
   "pygments_lexer": "ipython3",
   "version": "3.6.2"
  }
 },
 "nbformat": 4,
 "nbformat_minor": 2
}
